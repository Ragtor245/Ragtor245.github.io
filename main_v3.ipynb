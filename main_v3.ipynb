{
 "cells": [
  {
   "cell_type": "code",
   "execution_count": 1,
   "id": "7349f7f7",
   "metadata": {},
   "outputs": [],
   "source": [
    "import pandas as pd\n",
    "from langchain_community.vectorstores import FAISS\n",
    "from langchain_community.embeddings import HuggingFaceEmbeddings\n",
    "from langchain.prompts import PromptTemplate\n",
    "from langchain.chains import RetrievalQA\n",
    "from langchain_community.llms import HuggingFacePipeline\n",
    "from transformers import pipeline, AutoTokenizer, AutoModelForCausalLM\n",
    "import torch"
   ]
  },
  {
   "cell_type": "code",
   "execution_count": 10,
   "id": "d74c806c",
   "metadata": {},
   "outputs": [],
   "source": [
    "# 加载本地模型路径，请换成你实际下载的路径\n",
    "# LLM 路径\n",
    "llm_model_path = \"Qwen/Qwen2.5-1.5B-Instruct\"\n",
    "# Embedding 模型路径\n",
    "embedding_model_path = \"sentence-transformers/all-mpnet-base-v2\""
   ]
  },
  {
   "cell_type": "code",
   "execution_count": 11,
   "id": "9199b9b5",
   "metadata": {},
   "outputs": [],
   "source": [
    "\n",
    "# 加载嵌入模型\n",
    "embeddings = HuggingFaceEmbeddings(model_name=\"sentence-transformers/all-mpnet-base-v2\")"
   ]
  },
  {
   "cell_type": "code",
   "execution_count": 16,
   "id": "d79b2e33",
   "metadata": {},
   "outputs": [],
   "source": [
    "\n",
    "# 加载CSV数据\n",
    "from langchain.document_loaders import CSVLoader\n",
    "loader = CSVLoader(file_path=\"D:\\ClassMaterial\\graphrag\\data_test\\检验信息.csv\", encoding='GB2312')\n",
    "documents = loader.load()\n"
   ]
  },
  {
   "cell_type": "code",
   "execution_count": 17,
   "id": "772ed027",
   "metadata": {},
   "outputs": [
    {
     "name": "stdout",
     "output_type": "stream",
     "text": [
      "患者就诊卡证号码: D8E0B803CA9AF9033BD5A321977B9016984A353C7D4C5488\n",
      "门诊急诊住院体检标识: 1\n",
      "门诊急诊住院体检编号: 7EBB94CF52DEF7CB26655189350E54B578D9B778DB6635AC8CB5A4062BA44281\n",
      "检验申请单编号: 2B8CAE5C0FFD797379B004D8215931B6EB0A6CF9AA036C71\n",
      "样品分类代码: 9999\n",
      "样品分类名称: 未知\n",
      "标本采样时间: 2016/11/2\n",
      "采样单位编码: \n",
      "检验报告编号: 2B8CAE5C0FFD797379B004D8215931B6EB0A6CF9AA036C71\n",
      "检验报告名称: 尿常规检查(尿液分析)\n",
      "检验项目标准编码: 80302000\n",
      "检验结果: 阴性\n",
      "检验结果计量单位: \n",
      "检验结果是否异常: 0\n",
      "检验方法: \n",
      "检验科室编码: A30\n",
      "检验科室名称: 检验科\n",
      "检验日期和时间: 2016/11/2\n",
      "患者就诊卡证号码: D8E0B803CA9AF9033BD5A321977B9016984A353C7D4C5488\n",
      "门诊急诊住院体检标识: 1\n",
      "门诊急诊住院体检编号: 7EBB94CF52DEF7CB26655189350E54B578D9B778DB6635AC8CB5A4062BA44281\n",
      "检验申请单编号: 2B8CAE5C0FFD797379B004D8215931B6EB0A6CF9AA036C71\n",
      "样品分类代码: 9999\n",
      "样品分类名称: 未知\n",
      "标本采样时间: 2016/11/2\n",
      "采样单位编码: \n",
      "检验报告编号: 2B8CAE5C0FFD797379B004D8215931B6EB0A6CF9AA036C71\n",
      "检验报告名称: 尿常规检查(尿液分析)\n",
      "检验项目标准编码: 80601000\n",
      "检验结果: 黄\n",
      "检验结果计量单位: \n",
      "检验结果是否异常: 0\n",
      "检验方法: \n",
      "检验科室编码: A30\n",
      "检验科室名称: 检验科\n",
      "检验日期和时间: 2016/11/2\n",
      "患者就诊卡证号码: D8E0B803CA9AF9030016738B3CA923096DC7D3DFFFEE861F\n",
      "门诊急诊住院体检标识: 1\n",
      "门诊急诊住院体检编号: 8687B660A14CD5A5C0A24FFF40C059A188764AC15634DA9E6FC0F7F18EF8BC75\n",
      "检验申请单编号: 36130DA70D069D2BBA7B738665C13137101E8D6A83340BFF\n",
      "样品分类代码: 9999\n",
      "样品分类名称: 未知\n",
      "标本采样时间: 2017/7/11\n",
      "采样单位编码: \n",
      "检验报告编号: 36130DA70D069D2BBA7B738665C13137101E8D6A83340BFF\n",
      "检验报告名称: 化验单\n",
      "检验项目标准编码: 80101000\n",
      "检验结果: 0.0\n",
      "检验结果计量单位: 10^9/L\n",
      "检验结果是否异常: 0\n",
      "检验方法: \n",
      "检验科室编码: A30\n",
      "检验科室名称: 检验科\n",
      "检验日期和时间: 2017/7/11\n",
      "患者就诊卡证号码: D8E0B803CA9AF9030016738B3CA923096DC7D3DFFFEE861F\n",
      "门诊急诊住院体检标识: 1\n",
      "门诊急诊住院体检编号: 8687B660A14CD5A5C0A24FFF40C059A188764AC15634DA9E6FC0F7F18EF8BC75\n",
      "检验申请单编号: 36130DA70D069D2BBA7B738665C13137101E8D6A83340BFF\n",
      "样品分类代码: 9999\n",
      "样品分类名称: 未知\n",
      "标本采样时间: 2017/7/11\n",
      "采样单位编码: \n",
      "检验报告编号: 36130DA70D069D2BBA7B738665C13137101E8D6A83340BFF\n",
      "检验报告名称: 化验单\n",
      "检验项目标准编码: 80101000\n",
      "检验结果: 0.1\n",
      "检验结果计量单位: 10^9/L\n",
      "检验结果是否异常: 0\n",
      "检验方法: \n",
      "检验科室编码: A30\n",
      "检验科室名称: 检验科\n",
      "检验日期和时间: 2017/7/11\n",
      "患者就诊卡证号码: D8E0B803CA9AF9030016738B3CA923096DC7D3DFFFEE861F\n",
      "门诊急诊住院体检标识: 1\n",
      "门诊急诊住院体检编号: CD5518A9C62EFD965C1572B7C6885C03B09A291C7FCF04862DD97D9E21E381D6\n",
      "检验申请单编号: F91C4A4531A977D13FE6497C443C5F93D1078F8187CBA959\n",
      "样品分类代码: 9999\n",
      "样品分类名称: 未知\n",
      "标本采样时间: 2017/7/14\n",
      "采样单位编码: \n",
      "检验报告编号: F91C4A4531A977D13FE6497C443C5F93D1078F8187CBA959\n",
      "检验报告名称: 化验单\n",
      "检验项目标准编码: 80101000\n",
      "检验结果: 0.0\n",
      "检验结果计量单位: 10^9/L\n",
      "检验结果是否异常: 0\n",
      "检验方法: \n",
      "检验科室编码: A30\n",
      "检验科室名称: 检验科\n",
      "检验日期和时间: 2017/7/14\n"
     ]
    }
   ],
   "source": [
    "for doc in documents[:5]:  # 只打印前5个文档作为示例\n",
    "    print(doc.page_content)"
   ]
  },
  {
   "cell_type": "code",
   "execution_count": 20,
   "id": "c1b0543e",
   "metadata": {},
   "outputs": [
    {
     "name": "stdout",
     "output_type": "stream",
     "text": [
      "['患者就诊卡证号码: D8E0B803CA9AF9033BD5A321977B9016984A353C7D4C5488\\n门诊急诊住院体检标识: 1\\n门诊急诊住院体检编号: 7EBB94CF52DEF7CB26655189350E54B578D9B778DB6635AC8CB5A4062BA44281\\n检验申请单编号: 2B8CAE5C0FFD797379B004D8215931B6EB0A6CF9AA036C71\\n样品分类代码: 9999\\n样品分类名称: 未知\\n标本采样时间: 2016/11/2\\n采样单位编码: \\n检验报告编号: 2B8CAE5C0FFD797379B004D8215931B6EB0A6CF9AA036C71\\n检验报告名称: 尿常规检查(尿液分析)\\n检验项目标准编码: 80302000\\n检验结果: 阴性\\n检验结果计量单位: \\n检验结果是否异常: 0\\n检验方法: \\n检验科室编码: A30\\n检验科室名称: 检验科\\n检验日期和时间: 2016/11/2', '患者就诊卡证号码: D8E0B803CA9AF9033BD5A321977B9016984A353C7D4C5488\\n门诊急诊住院体检标识: 1\\n门诊急诊住院体检编号: 7EBB94CF52DEF7CB26655189350E54B578D9B778DB6635AC8CB5A4062BA44281\\n检验申请单编号: 2B8CAE5C0FFD797379B004D8215931B6EB0A6CF9AA036C71\\n样品分类代码: 9999\\n样品分类名称: 未知\\n标本采样时间: 2016/11/2\\n采样单位编码: \\n检验报告编号: 2B8CAE5C0FFD797379B004D8215931B6EB0A6CF9AA036C71\\n检验报告名称: 尿常规检查(尿液分析)\\n检验项目标准编码: 80601000\\n检验结果: 黄\\n检验结果计量单位: \\n检验结果是否异常: 0\\n检验方法: \\n检验科室编码: A30\\n检验科室名称: 检验科\\n检验日期和时间: 2016/11/2', '患者就诊卡证号码: D8E0B803CA9AF9030016738B3CA923096DC7D3DFFFEE861F\\n门诊急诊住院体检标识: 1\\n门诊急诊住院体检编号: 8687B660A14CD5A5C0A24FFF40C059A188764AC15634DA9E6FC0F7F18EF8BC75\\n检验申请单编号: 36130DA70D069D2BBA7B738665C13137101E8D6A83340BFF\\n样品分类代码: 9999\\n样品分类名称: 未知\\n标本采样时间: 2017/7/11\\n采样单位编码: \\n检验报告编号: 36130DA70D069D2BBA7B738665C13137101E8D6A83340BFF\\n检验报告名称: 化验单\\n检验项目标准编码: 80101000\\n检验结果: 0.0\\n检验结果计量单位: 10^9/L\\n检验结果是否异常: 0\\n检验方法: \\n检验科室编码: A30\\n检验科室名称: 检验科\\n检验日期和时间: 2017/7/11', '患者就诊卡证号码: D8E0B803CA9AF9030016738B3CA923096DC7D3DFFFEE861F\\n门诊急诊住院体检标识: 1\\n门诊急诊住院体检编号: 8687B660A14CD5A5C0A24FFF40C059A188764AC15634DA9E6FC0F7F18EF8BC75\\n检验申请单编号: 36130DA70D069D2BBA7B738665C13137101E8D6A83340BFF\\n样品分类代码: 9999\\n样品分类名称: 未知\\n标本采样时间: 2017/7/11\\n采样单位编码: \\n检验报告编号: 36130DA70D069D2BBA7B738665C13137101E8D6A83340BFF\\n检验报告名称: 化验单\\n检验项目标准编码: 80101000\\n检验结果: 0.1\\n检验结果计量单位: 10^9/L\\n检验结果是否异常: 0\\n检验方法: \\n检验科室编码: A30\\n检验科室名称: 检验科\\n检验日期和时间: 2017/7/11', '患者就诊卡证号码: D8E0B803CA9AF9030016738B3CA923096DC7D3DFFFEE861F\\n门诊急诊住院体检标识: 1\\n门诊急诊住院体检编号: CD5518A9C62EFD965C1572B7C6885C03B09A291C7FCF04862DD97D9E21E381D6\\n检验申请单编号: F91C4A4531A977D13FE6497C443C5F93D1078F8187CBA959\\n样品分类代码: 9999\\n样品分类名称: 未知\\n标本采样时间: 2017/7/14\\n采样单位编码: \\n检验报告编号: F91C4A4531A977D13FE6497C443C5F93D1078F8187CBA959\\n检验报告名称: 化验单\\n检验项目标准编码: 80101000\\n检验结果: 0.0\\n检验结果计量单位: 10^9/L\\n检验结果是否异常: 0\\n检验方法: \\n检验科室编码: A30\\n检验科室名称: 检验科\\n检验日期和时间: 2017/7/14']\n"
     ]
    }
   ],
   "source": [
    "# 构建FAISS索引\n",
    "text = [doc.page_content for doc in documents]\n",
    "print(text[:5])  # 只打印前5个文档作为示例"
   ]
  },
  {
   "cell_type": "code",
   "execution_count": 22,
   "id": "ef25441c",
   "metadata": {},
   "outputs": [],
   "source": [
    "vectorstore = FAISS.from_texts(text, embeddings)\n",
    "retriever = vectorstore.as_retriever(search_kwargs={\"k\": 2})  # 检索最相关的2个文档"
   ]
  },
  {
   "cell_type": "code",
   "execution_count": 23,
   "id": "3b81986d",
   "metadata": {},
   "outputs": [
    {
     "name": "stderr",
     "output_type": "stream",
     "text": [
      "Sliding Window Attention is enabled but not implemented for `sdpa`; unexpected results may be encountered.\n"
     ]
    }
   ],
   "source": [
    "# 加载本地大语言模型\n",
    "tokenizer = AutoTokenizer.from_pretrained(llm_model_path, trust_remote_code=True)\n",
    "model = AutoModelForCausalLM.from_pretrained(\n",
    "    llm_model_path,\n",
    "    device_map=\"auto\",\n",
    "    torch_dtype=torch.float16,\n",
    "    low_cpu_mem_usage=True\n",
    ")"
   ]
  },
  {
   "cell_type": "code",
   "execution_count": 24,
   "id": "68fe2acf",
   "metadata": {},
   "outputs": [
    {
     "name": "stderr",
     "output_type": "stream",
     "text": [
      "Device set to use cuda:0\n"
     ]
    }
   ],
   "source": [
    "# 创建文本生成管道\n",
    "pipe = pipeline(\n",
    "    \"text-generation\",\n",
    "    model=model,\n",
    "    tokenizer=tokenizer,\n",
    "    max_new_tokens=200,\n",
    "    temperature=0.7,\n",
    "    repetition_penalty=1.1,\n",
    "    return_full_text=False\n",
    ")"
   ]
  },
  {
   "cell_type": "code",
   "execution_count": 25,
   "id": "5f9b9740",
   "metadata": {},
   "outputs": [
    {
     "name": "stderr",
     "output_type": "stream",
     "text": [
      "C:\\Users\\12873\\AppData\\Local\\Temp\\ipykernel_19536\\294432507.py:2: LangChainDeprecationWarning: The class `HuggingFacePipeline` was deprecated in LangChain 0.0.37 and will be removed in 1.0. An updated version of the class exists in the :class:`~langchain-huggingface package and should be used instead. To use it run `pip install -U :class:`~langchain-huggingface` and import as `from :class:`~langchain_huggingface import HuggingFacePipeline``.\n",
      "  llm = HuggingFacePipeline(pipeline=pipe)\n"
     ]
    }
   ],
   "source": [
    "# 包装成 LangChain 可用的 LLM\n",
    "llm = HuggingFacePipeline(pipeline=pipe)\n",
    "\n",
    "# 定义提示模板\n",
    "prompt_template = \"\"\"你是一个智能助手，请根据检索到的信息回答用户问题。\n",
    "Context: {context}\n",
    "Question: {question}\n",
    "Answer:\"\"\"\n",
    "\n",
    "PROMPT = PromptTemplate(template=prompt_template, input_variables=[\"context\", \"question\"])\n",
    "\n",
    "# 创建 QA 链\n",
    "qa_chain = RetrievalQA.from_chain_type(\n",
    "    llm=llm,\n",
    "    chain_type=\"stuff\",\n",
    "    retriever=retriever,\n",
    "    return_source_documents=True,\n",
    "    chain_type_kwargs={\"prompt\": PROMPT}\n",
    ")\n",
    "\n",
    "# 封装一下查询函数\n",
    "def query_rag(question):\n",
    "    result = qa_chain.invoke({\"query\": question})\n",
    "    answer = result[\"result\"]\n",
    "    source_docs = \"\\n\".join([doc.page_content for doc in result[\"source_documents\"]])\n",
    "    return answer, source_docs"
   ]
  },
  {
   "cell_type": "code",
   "execution_count": 27,
   "id": "6e4bb9f3",
   "metadata": {},
   "outputs": [
    {
     "name": "stdout",
     "output_type": "stream",
     "text": [
      "答案： 根据提供的信息，该患者的检验报告记录显示了两次不同的检验时间：\n",
      "\n",
      "第一次检验时间为：2022年12月3日10:14:00\n",
      "第二次检验时间为：2022年5月6日\n",
      "\n",
      "所以，这位患者的所有检验时间分别是2022年12月3日10:14:00和2022年5月6日。\n",
      "来源：患者就诊卡证号码: 8A5CAD8B3C86B4959766C3B2D2382D1ECF97A55365E150ED\n",
      "门诊急诊住院体检标识: 3\n",
      "门诊急诊住院体检编号: 9B55B8098BB8E50F4CCAB6B35224A4D5\n",
      "检验申请单编号: 82C1BEBAA801EF53B42CD01517BA7C44\n",
      "样品分类代码: 0102\n",
      "样品分类名称: 血清\n",
      "标本采样时间: 2022/12/3 8:07:22\n",
      "采样单位编码: 320113466002673\n",
      "检验报告编号: 82C1BEBAA801EF53B42CD01517BA7C44\n",
      "检验报告名称: 男性肿标全套（免疫A）\n",
      "检验项目标准编码: 80403000\n",
      "检验结果: 6.710\n",
      "检验结果计量单位: U/ml\n",
      "检验结果是否异常: 0\n",
      "检验方法: \n",
      "检验科室编码: A30\n",
      "检验科室名称: 检验科\n",
      "检验日期和时间: 2022/12/3 10:14:00\n",
      "患者就诊卡证号码: 8A5CAD8B3C86B4959766C3B2D2382D1ECF97A55365E150ED\n",
      "门诊急诊住院体检标识: 3\n",
      "门诊急诊住院体检编号: A7DF3289527A0A176BFAC6DB48345A09\n",
      "检验申请单编号: D2D92CD36338A0502AA064556542E9B3\n",
      "样品分类代码: 0102\n",
      "样品分类名称: 血清\n",
      "标本采样时间: 2022/5/6\n",
      "采样单位编码: 320113466002673\n",
      "检验报告编号: D2D92CD36338A0502AA064556542E9B3\n",
      "检验报告名称: 男性肿标全套（免疫A）\n",
      "检验项目标准编码: 80403000\n",
      "检验结果: 3.280\n",
      "检验结果计量单位: U/ml\n",
      "检验结果是否异常: 0\n",
      "检验方法: \n",
      "检验科室编码: A30\n",
      "检验科室名称: 检验科\n",
      "检验日期和时间: 2022/5/6\n"
     ]
    }
   ],
   "source": [
    "# 测试查询功能\n",
    "question = \"患者就诊卡号码为D8E0B803CA9AF9033BD5A321977B9016984A353C7D4C5488的病人所有检验时间是多少？\"\n",
    "answer, sources = query_rag(question)\n",
    "print(f\"答案：{answer}\\n来源：{sources}\")"
   ]
  },
  {
   "cell_type": "code",
   "execution_count": 31,
   "id": "40b4ac6d",
   "metadata": {},
   "outputs": [
    {
     "name": "stdout",
     "output_type": "stream",
     "text": [
      "* Running on local URL:  http://127.0.0.1:7862\n",
      "* To create a public link, set `share=True` in `launch()`.\n"
     ]
    },
    {
     "data": {
      "text/html": [
       "<div><iframe src=\"http://127.0.0.1:7862/\" width=\"100%\" height=\"500\" allow=\"autoplay; camera; microphone; clipboard-read; clipboard-write;\" frameborder=\"0\" allowfullscreen></iframe></div>"
      ],
      "text/plain": [
       "<IPython.core.display.HTML object>"
      ]
     },
     "metadata": {},
     "output_type": "display_data"
    }
   ],
   "source": [
    "# Gradio 接口函数\n",
    "import gradio as gr\n",
    "def rag_query_interface(question):\n",
    "    answer, sources = query_rag(question)\n",
    "    return f\"**答案：**\\n\\n{answer}\\n\\n**来源信息：**\\n\\n{sources}\"\n",
    "\n",
    "# 创建 Gradio 界面\n",
    "iface = gr.Interface(\n",
    "    fn=rag_query_interface,\n",
    "    inputs=gr.Textbox(lines=2, placeholder=\"请输入你的问题...\"),\n",
    "    outputs=gr.Markdown(label=\"回答与来源\"),\n",
    "    title=\"RAG 中文问答系统\",\n",
    "    description=\"基于本地 CSV 数据 + Qwen2.5-1.5B-Instruct + all-mpnet-base-v2 的 RAG 模型问答系统。\",\n",
    "    examples=[[\"患者就诊卡号码为D8E0B803CA9AF9033BD5A321977B9016984A353C7D4C5488的病人所有检验时间是什么\"], [\"患者就诊卡号码为D8E0B803CA9AF9033BD5A321977B9016984A353C7D4C5488的病人检验了哪些项目\"]],\n",
    ")\n",
    "\n",
    "# 启动服务\n",
    "if __name__ == \"__main__\":\n",
    "    iface.launch()"
   ]
  }
 ],
 "metadata": {
  "kernelspec": {
   "display_name": "rag_conda",
   "language": "python",
   "name": "python3"
  },
  "language_info": {
   "codemirror_mode": {
    "name": "ipython",
    "version": 3
   },
   "file_extension": ".py",
   "mimetype": "text/x-python",
   "name": "python",
   "nbconvert_exporter": "python",
   "pygments_lexer": "ipython3",
   "version": "3.11.11"
  }
 },
 "nbformat": 4,
 "nbformat_minor": 5
}
